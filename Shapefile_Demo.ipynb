{
 "cells": [
  {
   "cell_type": "code",
   "execution_count": null,
   "metadata": {},
   "outputs": [],
   "source": [
    "import ogr\n",
    "import os"
   ]
  },
  {
   "cell_type": "markdown",
   "metadata": {},
   "source": [
    "### Setup a shapefile for our use"
   ]
  },
  {
   "cell_type": "code",
   "execution_count": null,
   "metadata": {},
   "outputs": [],
   "source": [
    "shapefile = os.path.join('NHD_H_Idaho_State_Shape','Shape','WBDHU8.shp')"
   ]
  },
  {
   "cell_type": "markdown",
   "metadata": {},
   "source": [
    "### Open the shapefile using ogr, the vector component of gdal\n",
    "\n",
    "A simple demonstration of [opening a shapefile using GDAL/OGR](https://gdal.org/python/osgeo.ogr-module.html#Open)*\n",
    "*The official API docs are difficult to link to, and not much help directly. Better to use the [docs viewer online](https://gdal.org/python/index.html)"
   ]
  },
  {
   "cell_type": "code",
   "execution_count": null,
   "metadata": {},
   "outputs": [],
   "source": [
    "shp_source = ogr.Open(shapefile)\n",
    "shp_layer = shp_source.GetLayer()"
   ]
  },
  {
   "cell_type": "markdown",
   "metadata": {},
   "source": [
    "### Get all the attributes in the shapefile"
   ]
  },
  {
   "cell_type": "code",
   "execution_count": null,
   "metadata": {},
   "outputs": [],
   "source": [
    "layerDefinition = shp_layer.GetLayerDefn()\n",
    "for i in range(layerDefinition.GetFieldCount()):\n",
    "    print(layerDefinition.GetFieldDefn(i).GetName())"
   ]
  },
  {
   "cell_type": "markdown",
   "metadata": {},
   "source": [
    "### Print data about a specific attribute\n",
    "\n",
    "Filter the data and print values of those objects which passed"
   ]
  },
  {
   "cell_type": "code",
   "execution_count": null,
   "metadata": {},
   "outputs": [],
   "source": [
    "shp_layer.SetAttributeFilter ( \"AreaAcres > 900000\" )\n",
    "for feat in shp_layer:\n",
    "    print(f'{feat.GetFieldAsString(\"HUC8\")} has {feat.GetFieldAsInteger(\"AreaAcres\")} acres of area')"
   ]
  },
  {
   "cell_type": "markdown",
   "metadata": {},
   "source": [
    "### Additional Material\n",
    "\n",
    "[This repository](https://ceholden.github.io/open-geo-tutorial/python/chapter_4_vector.html) has a really good overview of working with shape data in using ogr. See cell 2 specifically"
   ]
  },
  {
   "cell_type": "markdown",
   "metadata": {},
   "source": [
    "## Simplify Things With Geopandas\n",
    "\n",
    "Ok, so we can read the data in the shapefile using gdal's ogr driver. It works, but it's not really elegant. Enter GeoPandas. The awesome processing power of pandas made ready to work with geospatial data."
   ]
  },
  {
   "cell_type": "markdown",
   "metadata": {},
   "source": [
    "### Load the data to a geodataframe and explore the data\n",
    "\n",
    "use [read_file](https://geopandas.org/reference/geopandas.read_file.html) to get the shapefile into a [GeoDataFrame](https://geopandas.org/data_structures.html#geodataframe)"
   ]
  },
  {
   "cell_type": "code",
   "execution_count": null,
   "metadata": {},
   "outputs": [],
   "source": [
    "import geopandas as gpd\n",
    "gdf = gpd.read_file(shapefile)\n",
    "print(gdf)"
   ]
  },
  {
   "cell_type": "code",
   "execution_count": null,
   "metadata": {},
   "outputs": [],
   "source": [
    "gdf.head()"
   ]
  },
  {
   "cell_type": "markdown",
   "metadata": {},
   "source": [
    "### Searching and filtering is as simple as using Pandas functionality"
   ]
  },
  {
   "cell_type": "code",
   "execution_count": null,
   "metadata": {},
   "outputs": [],
   "source": [
    "gdf.loc[gdf['AreaAcres'] > 90000]"
   ]
  },
  {
   "cell_type": "markdown",
   "metadata": {},
   "source": [
    "### Numbers are great and all...but I wanna SEE the data\n",
    "\n",
    "After all, it is a map we're playing with. Luckily, [GeoPandas makes it easy](https://geopandas.org/mapping.html) using the [plot](https://geopandas.org/reference.html#geopandas.GeoSeries.plot) command. Like many other great Python libraries, it makes use of matplotlib under the hood."
   ]
  },
  {
   "cell_type": "code",
   "execution_count": null,
   "metadata": {},
   "outputs": [],
   "source": [
    "fig_size = (10,12)\n",
    "gdf.plot(figsize=fig_size)"
   ]
  },
  {
   "cell_type": "markdown",
   "metadata": {},
   "source": [
    "### Let's pick a column to display\n",
    "\n",
    "Drill down into the data a little and see what it looks like"
   ]
  },
  {
   "cell_type": "code",
   "execution_count": null,
   "metadata": {},
   "outputs": [],
   "source": [
    "gdf.plot(column='AreaAcres', figsize=fig_size)"
   ]
  },
  {
   "cell_type": "markdown",
   "metadata": {},
   "source": [
    "### Let's add a legend\n",
    "\n",
    "It's always nice to know what those pretty colors mean. Adding a legend is as easy as setting the argument to True"
   ]
  },
  {
   "cell_type": "code",
   "execution_count": null,
   "metadata": {},
   "outputs": [],
   "source": [
    "gdf.plot(column='AreaAcres', legend=True, figsize=fig_size)"
   ]
  },
  {
   "cell_type": "markdown",
   "metadata": {},
   "source": [
    "### Uh Oh! The legend looks a little...out of proportion\n",
    "\n",
    "Let's fix the legend with a little help from our friend, the locatable axis"
   ]
  },
  {
   "cell_type": "code",
   "execution_count": null,
   "metadata": {},
   "outputs": [],
   "source": [
    "import matplotlib.pyplot as plt\n",
    "from mpl_toolkits.axes_grid1 import make_axes_locatable\n",
    "fig, ax = plt.subplots(1, 1, figsize=fig_size)\n",
    "divider = make_axes_locatable(ax)\n",
    "cax = divider.append_axes(\"right\", size=\"5%\", pad=0.1)\n",
    "gdf.plot(column='AreaAcres', ax=ax, legend=True, cax=cax)"
   ]
  },
  {
   "cell_type": "markdown",
   "metadata": {},
   "source": [
    "### Let's look at another shapefile\n",
    "\n",
    "Here we have the data for bodies of water"
   ]
  },
  {
   "cell_type": "code",
   "execution_count": null,
   "metadata": {},
   "outputs": [],
   "source": [
    "shapefile2 = os.path.join('NHD_H_Idaho_State_Shape','Shape','NHDWaterbody.shp')\n",
    "gdf2 = gpd.read_file(shapefile2)\n",
    "print(gdf2)"
   ]
  },
  {
   "cell_type": "code",
   "execution_count": null,
   "metadata": {},
   "outputs": [],
   "source": [
    "gdf2.head()"
   ]
  },
  {
   "cell_type": "markdown",
   "metadata": {},
   "source": [
    "### Let's use Panda's sorting and filtering to view a portion of the data"
   ]
  },
  {
   "cell_type": "code",
   "execution_count": null,
   "metadata": {},
   "outputs": [],
   "source": [
    "gdf2.loc[gdf2['AreaSqKm'] > 90].sort_values('GNIS_Name')"
   ]
  },
  {
   "cell_type": "markdown",
   "metadata": {},
   "source": [
    "### Now we can plot just our filtered data"
   ]
  },
  {
   "cell_type": "code",
   "execution_count": null,
   "metadata": {},
   "outputs": [],
   "source": [
    "gdf2.loc[gdf2['AreaSqKm'] > 90].sort_values('GNIS_Name').plot(figsize=fig_size)"
   ]
  },
  {
   "cell_type": "markdown",
   "metadata": {},
   "source": [
    "### Play around with the data\n",
    "\n",
    "See if you can identify the largest body of water in the Waterbody shapefile."
   ]
  },
  {
   "cell_type": "code",
   "execution_count": null,
   "metadata": {},
   "outputs": [],
   "source": [
    "# first sort the dataframe by AreaSqKm, descending.\n",
    "# then get a dataframe of only the first row and plot it\n",
    "largest = gdf2.sort_values('AreaSqKm', ascending=False).iloc[[0]]\n",
    "largest.plot()"
   ]
  },
  {
   "cell_type": "markdown",
   "metadata": {},
   "source": [
    "### Combine Shapefiles into a single plot\n",
    "\n",
    "With a few additions and adjustments to our previous plot code, we can add multiple shape files into one plot"
   ]
  },
  {
   "cell_type": "code",
   "execution_count": null,
   "metadata": {},
   "outputs": [],
   "source": [
    "f, ax = plt.subplots(1, 1, figsize=fig_size)\n",
    "divider = make_axes_locatable(ax)\n",
    "cax = divider.append_axes(\"right\", size=\"5%\", pad=0.1)\n",
    "gdf.plot(ax=ax)\n",
    "gdf2.plot(ax=ax, column='OBJECTID', cax=cax, legend=True)\n",
    "plt.show()"
   ]
  }
 ],
 "metadata": {
  "kernelspec": {
   "display_name": "Python 3",
   "language": "python",
   "name": "python3"
  },
  "language_info": {
   "codemirror_mode": {
    "name": "ipython",
    "version": 3
   },
   "file_extension": ".py",
   "mimetype": "text/x-python",
   "name": "python",
   "nbconvert_exporter": "python",
   "pygments_lexer": "ipython3",
   "version": "3.7.7"
  }
 },
 "nbformat": 4,
 "nbformat_minor": 4
}
